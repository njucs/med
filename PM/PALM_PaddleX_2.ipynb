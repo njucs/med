{
  "nbformat": 4,
  "nbformat_minor": 0,
  "metadata": {
    "colab": {
      "name": "PALM_PaddleX_2.ipynb",
      "provenance": [],
      "collapsed_sections": [],
      "authorship_tag": "ABX9TyMLPgFHxhgZmu1pRepFntWm",
      "include_colab_link": true
    },
    "kernelspec": {
      "name": "python3",
      "display_name": "Python 3"
    },
    "language_info": {
      "name": "python"
    },
    "accelerator": "GPU"
  },
  "cells": [
    {
      "cell_type": "markdown",
      "metadata": {
        "id": "view-in-github",
        "colab_type": "text"
      },
      "source": [
        "<a href=\"https://colab.research.google.com/github/njucs/med/blob/master/PM/PALM_PaddleX_2.ipynb\" target=\"_parent\"><img src=\"https://colab.research.google.com/assets/colab-badge.svg\" alt=\"Open In Colab\"/></a>"
      ]
    },
    {
      "cell_type": "markdown",
      "source": [
        "## PaddleX配置"
      ],
      "metadata": {
        "id": "-_UpfeIEdr3g"
      }
    },
    {
      "cell_type": "markdown",
      "source": [
        "### paddlex安装"
      ],
      "metadata": {
        "id": "eXF3enlRdtmw"
      }
    },
    {
      "cell_type": "code",
      "source": [
        "# 查看CUDA版本\n",
        "!nvcc --version"
      ],
      "metadata": {
        "id": "3lfwFhdJlQb2"
      },
      "execution_count": null,
      "outputs": []
    },
    {
      "cell_type": "code",
      "source": [
        "# install PaddlePaddle-GPU\n",
        "!python -m pip install paddlepaddle-gpu==2.2.2 -i https://mirror.baidu.com/pypi/simple"
      ],
      "metadata": {
        "id": "Obdbrdr1lePI"
      },
      "execution_count": null,
      "outputs": []
    },
    {
      "cell_type": "code",
      "execution_count": null,
      "metadata": {
        "id": "327IadTzQ6N9"
      },
      "outputs": [],
      "source": [
        "!pip install paddlex==1.3.11 -i https://mirror.baidu.com/pypi/simple"
      ]
    },
    {
      "cell_type": "markdown",
      "source": [
        "### GPU设置、包引入"
      ],
      "metadata": {
        "id": "-uQo7Hwbd743"
      }
    },
    {
      "cell_type": "code",
      "source": [
        "# 设置使用0号GPU卡（如无GPU，执行此代码后仍然会使用CPU训练模型）\n",
        "import matplotlib\n",
        "matplotlib.use('Agg') \n",
        "import os\n",
        "os.environ['CUDA_VISIBLE_DEVICES'] = '0'\n",
        "import paddlex as pdx"
      ],
      "metadata": {
        "id": "68NiFh7Pd9U7"
      },
      "execution_count": null,
      "outputs": []
    },
    {
      "cell_type": "markdown",
      "source": [
        "## 准备数据集"
      ],
      "metadata": {
        "id": "xcXcIYl4eInK"
      }
    },
    {
      "cell_type": "markdown",
      "source": [
        "### 准备数据"
      ],
      "metadata": {
        "id": "tFjwp8QieKg5"
      }
    },
    {
      "cell_type": "code",
      "source": [
        "# 授权 Colab 访问 Google Drive\n",
        "from google.colab import drive\n",
        "drive.mount('/content/drive')\n",
        "\n",
        "%cd drive/MyDrive/'Colab Notebooks'/Ophthalmology/PathologicMyopia/"
      ],
      "metadata": {
        "colab": {
          "base_uri": "https://localhost:8080/"
        },
        "id": "3uNgUT5Pw5VV",
        "outputId": "0b2abd06-2647-43f6-813e-1787f6df96b8"
      },
      "execution_count": 3,
      "outputs": [
        {
          "output_type": "stream",
          "name": "stdout",
          "text": [
            "Drive already mounted at /content/drive; to attempt to forcibly remount, call drive.mount(\"/content/drive\", force_remount=True).\n",
            "/content/drive/MyDrive/Colab Notebooks/Ophthalmology/PathologicMyopia\n"
          ]
        }
      ]
    },
    {
      "cell_type": "code",
      "source": [
        "!ls dataset/Train | wc -w\n",
        "!ls dataset/Train/fundus_image/ | wc -w\n",
        "!ls dataset/PALM-Testing400-Images/ | wc -w"
      ],
      "metadata": {
        "colab": {
          "base_uri": "https://localhost:8080/"
        },
        "id": "skjCHL0gyD4v",
        "outputId": "04148ed8-6ae1-4f2f-e01b-1d58e1dc234b"
      },
      "execution_count": 8,
      "outputs": [
        {
          "output_type": "stream",
          "name": "stdout",
          "text": [
            "2\n",
            "800\n",
            "400\n"
          ]
        }
      ]
    },
    {
      "cell_type": "code",
      "source": [
        "# download dataset from website (already done!)\n",
        "!wget https://bj.bcebos.com/v1/dataset-bj/%E5%8C%BB%E7%96%97%E6%AF%94%E8%B5%9B/%E5%B8%B8%E8%A7%84%E8%B5%9B%EF%BC%9APALM%E7%9C%BC%E5%BA%95%E5%BD%A9%E7%85%A7%E8%A7%86%E7%9B%98%E6%8E%A2%E6%B5%8B%E4%B8%8E%E5%88%86%E5%89%B2.zip -O dataset.zip"
      ],
      "metadata": {
        "id": "9WWRSEfFePyw"
      },
      "execution_count": null,
      "outputs": []
    },
    {
      "cell_type": "markdown",
      "source": [
        "### 划分数据集和测试集"
      ],
      "metadata": {
        "id": "EjlHOOfNeQIZ"
      }
    },
    {
      "cell_type": "code",
      "source": [
        "# 划分训练集和测试集\n",
        "\n",
        "import pandas as pd\n",
        "import random\n",
        "\n",
        "train_excel_file = 'dataset/Train/Classification.xlsx'\n",
        "pd_list=pd.read_excel(train_excel_file)\n",
        "\n",
        "pd_list_lenght=len(pd_list)\n",
        "# 乱序\n",
        "pd_list=pd_list.sample(frac=1)\n",
        "offset=int(pd_list_lenght*0.9)\n",
        "trian_list=pd_list[:offset]\n",
        "eval_list=pd_list[offset:]\n",
        "trian_list.to_csv(\"PALM_PaddleX_2/train_list.txt\", index=None, header=None, sep=' ')\n",
        "eval_list.to_csv(\"PALM_PaddleX_2/eval_list.txt\", index=None, header=None, sep=' ')"
      ],
      "metadata": {
        "id": "cVvlXRHqeYDh"
      },
      "execution_count": 4,
      "outputs": []
    },
    {
      "cell_type": "markdown",
      "source": [
        "### 数据增强配置"
      ],
      "metadata": {
        "id": "Ye1WTEEEecv4"
      }
    },
    {
      "cell_type": "code",
      "source": [
        "from paddlex.cls import transforms\n",
        "train_transforms = transforms.Compose([\n",
        "    transforms.RandomCrop(crop_size=1440),\n",
        "    transforms.RandomHorizontalFlip(),\n",
        "    transforms.Normalize()\n",
        "])\n",
        "eval_transforms = transforms.Compose([\n",
        "    transforms.ResizeByShort(short_size=1444),\n",
        "    transforms.CenterCrop(crop_size=1440),\n",
        "    transforms.Normalize()\n",
        "])"
      ],
      "metadata": {
        "id": "40pNqhciees5"
      },
      "execution_count": 5,
      "outputs": []
    },
    {
      "cell_type": "markdown",
      "source": [
        "### 数据集配置"
      ],
      "metadata": {
        "id": "g25AXzuIefnV"
      }
    },
    {
      "cell_type": "code",
      "source": [
        "# 这里面的labels.txt记录了可能的label是哪些\n",
        "# 在本实验中，就0和1两行\n",
        "\n",
        "train_dataset = pdx.datasets.ImageNet(\n",
        "    data_dir='dataset/Train/fundus_image',\n",
        "    file_list='PALM_PaddleX_2/train_list.txt',\n",
        "    label_list='PALM_PaddleX_2/labels.txt',\n",
        "    transforms=train_transforms,\n",
        "    shuffle=True)\n",
        "eval_dataset = pdx.datasets.ImageNet(\n",
        "    data_dir='dataset/Train/fundus_image',\n",
        "    file_list='PALM_PaddleX_2/eval_list.txt',\n",
        "    label_list='PALM_PaddleX_2/labels.txt',\n",
        "    transforms=eval_transforms)"
      ],
      "metadata": {
        "colab": {
          "base_uri": "https://localhost:8080/"
        },
        "id": "cEbU8IwIeizW",
        "outputId": "87f75c1c-bd14-40a2-88da-f0984ee34812"
      },
      "execution_count": 6,
      "outputs": [
        {
          "output_type": "stream",
          "name": "stdout",
          "text": [
            "2022-04-19 13:29:43 [INFO]\tStarting to read file list from dataset...\n",
            "2022-04-19 13:29:43 [INFO]\t720 samples in file train_list.txt\n",
            "2022-04-19 13:29:43 [INFO]\tStarting to read file list from dataset...\n",
            "2022-04-19 13:29:43 [INFO]\t80 samples in file eval_list.txt\n"
          ]
        }
      ]
    },
    {
      "cell_type": "markdown",
      "source": [
        "## 训练"
      ],
      "metadata": {
        "id": "scPbUAv_elRe"
      }
    },
    {
      "cell_type": "code",
      "source": [
        "model = pdx.cls.MobileNetV3_small_ssld(num_classes=2)\n",
        "model.train(num_epochs=64,\n",
        "            train_dataset=train_dataset,\n",
        "            train_batch_size=32,\n",
        "            eval_dataset=eval_dataset,\n",
        "            lr_decay_epochs=[4, 6, 8],\n",
        "            save_interval_epochs=1,\n",
        "            learning_rate=0.025,\n",
        "            save_dir='PALM_PaddleX_2/output/mobilenetv3_small_ssld',\n",
        "            # resume_checkpoint='output/mobilenetv3_small_ssld/epoch_18',\n",
        "            use_vdl=True)"
      ],
      "metadata": {
        "id": "kggqrRytemhy"
      },
      "execution_count": null,
      "outputs": []
    },
    {
      "cell_type": "markdown",
      "source": [
        "## 预测"
      ],
      "metadata": {
        "id": "V19HnpEheuLT"
      }
    },
    {
      "cell_type": "markdown",
      "source": [
        "### 环境配置"
      ],
      "metadata": {
        "id": "QNsEA726ev09"
      }
    },
    {
      "cell_type": "code",
      "source": [
        "# 设置使用0号GPU卡（如无GPU，执行此代码后仍然会使用CPU训练模型）\n",
        "import matplotlib\n",
        "matplotlib.use('Agg') \n",
        "import os\n",
        "os.environ['CUDA_VISIBLE_DEVICES'] = '0'\n",
        "import paddlex as pdx"
      ],
      "metadata": {
        "id": "D19WzI1hez5m"
      },
      "execution_count": null,
      "outputs": []
    },
    {
      "cell_type": "markdown",
      "source": [
        "### 单张图片预测"
      ],
      "metadata": {
        "id": "ABBCX9rXe1XM"
      }
    },
    {
      "cell_type": "code",
      "source": [
        "# 单张预测测试\n",
        "import paddlex as pdx\n",
        "model = pdx.load_model('PALM_PaddleX_2/output/mobilenetv3_small_ssld/epoch_9')\n",
        "image_name = 'dataset/PALM-Testing400-Images/T0001.jpg'\n",
        "result = model.predict(image_name, topk=2)\n",
        "print(\"Predict Result:\", result)\n",
        "\n",
        "\n",
        "image_name = 'dataset/PALM-Testing400-Images/T0002.jpg'\n",
        "result = model.predict(image_name, topk=2)\n",
        "print(\"Predict Result:\", result)"
      ],
      "metadata": {
        "id": "8ue9m2Rve5AA"
      },
      "execution_count": null,
      "outputs": []
    },
    {
      "cell_type": "markdown",
      "source": [
        "### 预测数据集生成"
      ],
      "metadata": {
        "id": "wdYgKfyle8Bh"
      }
    },
    {
      "cell_type": "code",
      "source": [
        "# 预测数据集val_list\n",
        "val_list=[]\n",
        "for i in range(1,401,1):\n",
        "# for i in range(1,201,1):\n",
        "    filename='T'+ str(i).zfill(4)+'.jpg'\n",
        "    # print(filename)\n",
        "    val_list.append(filename+'\\n')\n",
        "\n",
        "with open('PALM_PaddleX_2/val_list.txt','w') as f:\n",
        "    f.writelines(val_list)\n",
        "    \n",
        "val_list=[]\n",
        "with open('PALM_PaddleX_2/val_list.txt', 'r') as f:\n",
        "    for line in f:\n",
        "        line='dataset/PALM-Testing400-Images/'+line\n",
        "        val_list.append(line.split('\\n')[0])\n",
        "        # print(line.split('\\n')[0])\n",
        "print(len(val_list))"
      ],
      "metadata": {
        "id": "s_QWGALVe-Ct"
      },
      "execution_count": null,
      "outputs": []
    },
    {
      "cell_type": "markdown",
      "source": [
        "### 批量预测"
      ],
      "metadata": {
        "id": "eyMeEE6ZfFmn"
      }
    },
    {
      "cell_type": "code",
      "source": [
        "import paddlex as pdx\n",
        "\n",
        "result_list=[]\n",
        "model = pdx.load_model('PALM_PaddleX_2/output/mobilenetv3_small_ssld/best_model')\n",
        "for image_name in val_list:\n",
        "    result = model.predict(image_name, topk=2)\n",
        "    result_list.append(result)\n",
        "    print(\"Predict Result:\", result)"
      ],
      "metadata": {
        "id": "o_nYhuuBfHQw"
      },
      "execution_count": null,
      "outputs": []
    },
    {
      "cell_type": "markdown",
      "source": [
        "### 结果检查"
      ],
      "metadata": {
        "id": "QF0lK3wLfOpE"
      }
    },
    {
      "cell_type": "code",
      "source": [
        "item = result_list[0]\n",
        "print(item)\n",
        "print(item[0]['category_id'],item[0]['score'])\n",
        "print(item[1]['category_id'],item[1]['score'])"
      ],
      "metadata": {
        "id": "7b1CgM1ufQO-"
      },
      "execution_count": null,
      "outputs": []
    },
    {
      "cell_type": "markdown",
      "source": [
        "### 保存结果"
      ],
      "metadata": {
        "id": "CIUry1QffYRq"
      }
    },
    {
      "cell_type": "code",
      "source": [
        "# 结果列\n",
        "pd_B=[]\n",
        "for item in result_list:\n",
        "    # print(item)\n",
        "    if item[0]['category_id']==1:\n",
        "        pd_B.append(item[0]['score'])\n",
        "    else:\n",
        "        pd_B.append(item[1]['score'])\n",
        "\n",
        "# 文件名列\n",
        "pd_A=[]\n",
        "with open('PALM_PaddleX_2/val_list.txt', 'r') as f:\n",
        "    for line in f:\n",
        "        pd_A.append(line.split('\\n')[0])\n",
        "        # print(line.split('\\n')[0])\n",
        "  \n",
        "# 构造pandas的DataFrame\n",
        "import pandas as pd\n",
        "df= pd.DataFrame({'FileName': pd_A, 'PM Risk':pd_B})\n",
        "\n",
        "# 保存为提交文件\n",
        "df.to_csv(\"PALM_PaddleX_2/Classification_Results.csv\", index=None)"
      ],
      "metadata": {
        "id": "jSeIDWiSfZt-"
      },
      "execution_count": null,
      "outputs": []
    }
  ]
}