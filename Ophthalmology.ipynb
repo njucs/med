{
  "nbformat": 4,
  "nbformat_minor": 0,
  "metadata": {
    "colab": {
      "name": "Ophthalmology.ipynb",
      "provenance": [],
      "authorship_tag": "ABX9TyPvc+tBTIOd31gMoVjz1ARN",
      "include_colab_link": true
    },
    "kernelspec": {
      "name": "python3",
      "display_name": "Python 3"
    },
    "language_info": {
      "name": "python"
    }
  },
  "cells": [
    {
      "cell_type": "markdown",
      "metadata": {
        "id": "view-in-github",
        "colab_type": "text"
      },
      "source": [
        "<a href=\"https://colab.research.google.com/github/njucs/med/blob/master/Ophthalmology.ipynb\" target=\"_parent\"><img src=\"https://colab.research.google.com/assets/colab-badge.svg\" alt=\"Open In Colab\"/></a>"
      ]
    },
    {
      "cell_type": "markdown",
      "metadata": {
        "id": "E1FUMZZWTGEt"
      },
      "source": [
        "# **眼科 + AI**"
      ]
    },
    {
      "cell_type": "markdown",
      "metadata": {
        "id": "G8RUrPJJTMy0"
      },
      "source": [
        "## **方向1**"
      ]
    },
    {
      "cell_type": "code",
      "metadata": {
        "id": "PZlqtxDWTAUX"
      },
      "source": [
        ""
      ],
      "execution_count": null,
      "outputs": []
    },
    {
      "cell_type": "markdown",
      "metadata": {
        "id": "SctQyF0ZTRdF"
      },
      "source": [
        "## **方向2**"
      ]
    },
    {
      "cell_type": "code",
      "metadata": {
        "id": "W4kE7ewYTV-K"
      },
      "source": [
        ""
      ],
      "execution_count": null,
      "outputs": []
    }
  ]
}